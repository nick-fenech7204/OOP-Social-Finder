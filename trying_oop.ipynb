{
 "cells": [
  {
   "cell_type": "code",
   "execution_count": 7,
   "metadata": {},
   "outputs": [],
   "source": []
  },
  {
   "cell_type": "code",
   "execution_count": 22,
   "metadata": {},
   "outputs": [],
   "source": [
    "import pandas as pd\n",
    "import time\n",
    "from bs4 import BeautifulSoup\n",
    "import requests\n",
    "import warnings\n",
    "from fake_useragent import UserAgent\n",
    "\n",
    "class Webscraper():\n",
    "    \n",
    "    def __init__(self, urls):\n",
    "        self.data = None\n",
    "        self.urls = list(urls)\n",
    "        self.smm_dict = None\n",
    "         \n",
    "    def scrap_smm_info_from_pages(self):\n",
    "\n",
    "        social_media_patterns = ['www.facebook.com', 'www.instagram.com', 'www.linkedin.com', 'www.twitter.com',\n",
    "                                  'facebook.com', 'instagram.com', 'linkedin.com', 'twitter.com', 'x.com']\n",
    "        ua = UserAgent()\n",
    "\n",
    "        fake_headers = ua.chrome\n",
    "        smm_dict = {}\n",
    "        # warnings.filterwarnings('ignore', category=requests.packages.urllib3.exceptions.InsecureRequestWarning)\n",
    "        \n",
    "        for id4, smm_find in enumerate(self.urls):\n",
    "            smm_links = set()\n",
    "            try:\n",
    "                response2 = requests.get(smm_find, timeout=8, headers={'User-Agent' : fake_headers}, verify=False)\n",
    "                soupy = BeautifulSoup(response2.text, 'html.parser')\n",
    "                body = soupy.find('body')\n",
    "\n",
    "                if body is not None:\n",
    "                    href_values = [link.get('href') for link in body.find_all('a') if link.get('href')]\n",
    "\n",
    "                    for href in href_values:\n",
    "                        for pattern in social_media_patterns:\n",
    "                            if pattern in href:\n",
    "                                smm_links.add(href)\n",
    "\n",
    "            except Exception as e:\n",
    "                pass\n",
    "\n",
    "            if smm_links:\n",
    "                smm_dict[id4] = list(smm_links)\n",
    "\n",
    "        self.smm_dict = smm_dict\n",
    "        return smm_dict\n",
    "\n"
   ]
  },
  {
   "cell_type": "code",
   "execution_count": 24,
   "metadata": {},
   "outputs": [
    {
     "name": "stderr",
     "output_type": "stream",
     "text": [
      "c:\\Users\\Nick\\anaconda3\\envs\\myenviorment\\Lib\\site-packages\\urllib3\\connectionpool.py:1045: InsecureRequestWarning: Unverified HTTPS request is being made to host 'familyfriendsvet.com'. Adding certificate verification is strongly advised. See: https://urllib3.readthedocs.io/en/1.26.x/advanced-usage.html#ssl-warnings\n",
      "  warnings.warn(\n",
      "c:\\Users\\Nick\\anaconda3\\envs\\myenviorment\\Lib\\site-packages\\urllib3\\connectionpool.py:1045: InsecureRequestWarning: Unverified HTTPS request is being made to host 'bluepearlvet.com'. Adding certificate verification is strongly advised. See: https://urllib3.readthedocs.io/en/1.26.x/advanced-usage.html#ssl-warnings\n",
      "  warnings.warn(\n",
      "c:\\Users\\Nick\\anaconda3\\envs\\myenviorment\\Lib\\site-packages\\urllib3\\connectionpool.py:1045: InsecureRequestWarning: Unverified HTTPS request is being made to host 'www.westmichiganaeh.com'. Adding certificate verification is strongly advised. See: https://urllib3.readthedocs.io/en/1.26.x/advanced-usage.html#ssl-warnings\n",
      "  warnings.warn(\n",
      "c:\\Users\\Nick\\anaconda3\\envs\\myenviorment\\Lib\\site-packages\\urllib3\\connectionpool.py:1045: InsecureRequestWarning: Unverified HTTPS request is being made to host 'willowrunvetservices.com'. Adding certificate verification is strongly advised. See: https://urllib3.readthedocs.io/en/1.26.x/advanced-usage.html#ssl-warnings\n",
      "  warnings.warn(\n"
     ]
    },
    {
     "data": {
      "text/plain": [
       "{0: ['https://www.facebook.com/familyfriendsvet/',\n",
       "  'https://www.instagram.com/familyfriendsveterinary/'],\n",
       " 1: ['https://www.facebook.com/BluePearlPetHospital/',\n",
       "  'https://twitter.com/bluepearlvet',\n",
       "  'https://www.instagram.com/bluepearlvet/',\n",
       "  'https://www.linkedin.com/company/bluepearl-veterinary-partners/'],\n",
       " 2: ['https://www.facebook.com/AEHGR'],\n",
       " 3: ['https://www.facebook.com/Willow-Run-Veterinary-Services-190323027661850/']}"
      ]
     },
     "execution_count": 24,
     "metadata": {},
     "output_type": "execute_result"
    }
   ],
   "source": [
    "urls = ['https://familyfriendsvet.com', 'https://bluepearlvet.com', 'https://www.westmichiganaeh.com', 'https://willowrunvetservices.com']\n",
    "\n",
    "scraper = Webscraper(urls)\n",
    "\n",
    "result = scraper.scrap_smm_info_from_pages()\n",
    "result \n",
    "\n",
    "# Scrapper works initally, now need to get rid of warning and add print statments , then on to next logics \n",
    "# Make github push tomorrow, also youll watch vid to make lirary after oop is done"
   ]
  },
  {
   "cell_type": "code",
   "execution_count": 11,
   "metadata": {},
   "outputs": [
    {
     "name": "stderr",
     "output_type": "stream",
     "text": [
      "c:\\Users\\Nick\\anaconda3\\envs\\myenviorment\\Lib\\site-packages\\urllib3\\connectionpool.py:1045: InsecureRequestWarning: Unverified HTTPS request is being made to host 'example1.com'. Adding certificate verification is strongly advised. See: https://urllib3.readthedocs.io/en/1.26.x/advanced-usage.html#ssl-warnings\n",
      "  warnings.warn(\n",
      "c:\\Users\\Nick\\anaconda3\\envs\\myenviorment\\Lib\\site-packages\\urllib3\\connectionpool.py:1045: InsecureRequestWarning: Unverified HTTPS request is being made to host 'example2.com'. Adding certificate verification is strongly advised. See: https://urllib3.readthedocs.io/en/1.26.x/advanced-usage.html#ssl-warnings\n",
      "  warnings.warn(\n",
      "c:\\Users\\Nick\\anaconda3\\envs\\myenviorment\\Lib\\site-packages\\urllib3\\connectionpool.py:1045: InsecureRequestWarning: Unverified HTTPS request is being made to host 'example3.com'. Adding certificate verification is strongly advised. See: https://urllib3.readthedocs.io/en/1.26.x/advanced-usage.html#ssl-warnings\n",
      "  warnings.warn(\n",
      "c:\\Users\\Nick\\anaconda3\\envs\\myenviorment\\Lib\\site-packages\\urllib3\\connectionpool.py:1045: InsecureRequestWarning: Unverified HTTPS request is being made to host 'www.example3.com'. Adding certificate verification is strongly advised. See: https://urllib3.readthedocs.io/en/1.26.x/advanced-usage.html#ssl-warnings\n",
      "  warnings.warn(\n"
     ]
    },
    {
     "name": "stdout",
     "output_type": "stream",
     "text": [
      "Social Media Links:\n",
      "{2: ['https://stickybudshfx.com/', '/domain/lnkwjx.com', 'https://lnkwjx.com']}\n"
     ]
    }
   ],
   "source": [
    "import pandas as pd\n",
    "import time\n",
    "from bs4 import BeautifulSoup\n",
    "import requests\n",
    "from fake_useragent import UserAgent\n",
    "\n",
    "class WebScraper:\n",
    "\n",
    "    def __init__(self, urls):\n",
    "        self.data = None\n",
    "        self.urls = list(urls)\n",
    "        self.smm_dict = None\n",
    "\n",
    "    def scrap_smm_info_from_pages(self):\n",
    "        social_media_patterns = ['www.facebook.com', 'www.instagram.com', 'www.linkedin.com', 'www.twitter.com',\n",
    "                                  'facebook.com', 'instagram.com', 'linkedin.com', 'twitter.com', 'x.com']\n",
    "        ua = UserAgent()\n",
    "        fake_headers = {'User-Agent': ua.chrome}\n",
    "        smm_dict = {}\n",
    "\n",
    "        for id4, smm_find in enumerate(self.urls):\n",
    "            smm_links = set()\n",
    "            try:\n",
    "                response2 = requests.get(smm_find, timeout=8, headers=fake_headers, verify=False)\n",
    "                soupy = BeautifulSoup(response2.text, 'html.parser')\n",
    "                body = soupy.find('body')\n",
    "\n",
    "                if body is not None:\n",
    "                    href_values = [link.get('href') for link in body.find_all('a') if link.get('href')]\n",
    "\n",
    "                    for href in href_values:\n",
    "                        for pattern in social_media_patterns:\n",
    "                            if pattern in href:\n",
    "                                smm_links.add(href)\n",
    "\n",
    "            except Exception as e:\n",
    "                print(f\"Error for URL {smm_find}: {e}\")\n",
    "                pass\n",
    "\n",
    "            if smm_links:\n",
    "                smm_dict[id4] = list(smm_links)\n",
    "\n",
    "        self.smm_dict = smm_dict\n",
    "        return smm_dict\n",
    "\n",
    "# Example usage:\n",
    "url_list = [\"https://example1.com\", \"https://example2.com\", \"https://example3.com\"]\n",
    "scraper = WebScraper(url_list)\n",
    "\n",
    "result = scraper.scrap_smm_info_from_pages()\n",
    "print(\"Social Media Links:\")\n",
    "print(result)\n"
   ]
  },
  {
   "cell_type": "code",
   "execution_count": 34,
   "metadata": {},
   "outputs": [
    {
     "ename": "TypeError",
     "evalue": "Csv_scrapper.clean_csv_file() missing 1 required positional argument: 'csv_file'",
     "output_type": "error",
     "traceback": [
      "\u001b[1;31m---------------------------------------------------------------------------\u001b[0m",
      "\u001b[1;31mTypeError\u001b[0m                                 Traceback (most recent call last)",
      "Cell \u001b[1;32mIn[34], line 4\u001b[0m\n\u001b[0;32m      1\u001b[0m url \u001b[38;5;241m=\u001b[39m \u001b[38;5;124m'\u001b[39m\u001b[38;5;124mhttps://coitanimalclinic.com/\u001b[39m\u001b[38;5;124m'\u001b[39m\n\u001b[0;32m      3\u001b[0m first_file \u001b[38;5;241m=\u001b[39m Csv_scrapper(url)\n\u001b[1;32m----> 4\u001b[0m \u001b[43mfirst_file\u001b[49m\u001b[38;5;241;43m.\u001b[39;49m\u001b[43mclean_csv_file\u001b[49m(url)\n",
      "\u001b[1;31mTypeError\u001b[0m: Csv_scrapper.clean_csv_file() missing 1 required positional argument: 'csv_file'"
     ]
    }
   ],
   "source": [
    "url = 'https://coitanimalclinic.com/'\n",
    "\n",
    "first_file = Csv_scrapper(url)\n",
    "first_file.clean_csv_file(url)"
   ]
  },
  {
   "cell_type": "code",
   "execution_count": null,
   "metadata": {},
   "outputs": [],
   "source": [
    "def create_df_cleaned_from_smm(smm_dict):  \n",
    "    global df_of_smm_opt\n",
    "\n",
    "    df_of_smm_opt = pd.DataFrame(smm_dict.items(), columns=['ID', 'Social Media Links'])\n",
    "    \n",
    "    platforms = ['Facebook', 'Instagram', 'LinkedIn','Twitter']\n",
    "\n",
    "    for platform in platforms:\n",
    "        df_of_smm_opt[platform] = df_of_smm_opt['Social Media Links'].apply(\n",
    "            lambda links: [link for link in links if platform.lower() in link.lower()][0] if any(platform.lower() in link.lower() for link in links) else None\n",
    "        )\n",
    "    df_of_smm_opt = df_of_smm_opt.drop('Social Media Links', axis=1)\n",
    "    \n",
    "    return df_of_smm_opt"
   ]
  },
  {
   "cell_type": "code",
   "execution_count": null,
   "metadata": {},
   "outputs": [],
   "source": [
    "if __name__ == '__main__':\n",
    "    create_df_cleaned_from_smm(scrap_smm_info_from_pages(get_accounts_websites_for_smm_scrap()))\n",
    "\n",
    "df_of_smm_opt\n",
    "\n",
    "save = df_of_smm_opt.to_csv('smm_25k_homepage_scrapped.csv')"
   ]
  }
 ],
 "metadata": {
  "kernelspec": {
   "display_name": "myenviorment",
   "language": "python",
   "name": "python3"
  },
  "language_info": {
   "codemirror_mode": {
    "name": "ipython",
    "version": 3
   },
   "file_extension": ".py",
   "mimetype": "text/x-python",
   "name": "python",
   "nbconvert_exporter": "python",
   "pygments_lexer": "ipython3",
   "version": "3.11.2"
  }
 },
 "nbformat": 4,
 "nbformat_minor": 2
}
